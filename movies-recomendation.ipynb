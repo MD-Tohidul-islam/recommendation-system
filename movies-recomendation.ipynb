{
 "cells": [
  {
   "cell_type": "code",
   "execution_count": 1,
   "id": "8f2494c0",
   "metadata": {
    "execution": {
     "iopub.execute_input": "2023-12-28T18:47:10.848630Z",
     "iopub.status.busy": "2023-12-28T18:47:10.848024Z",
     "iopub.status.idle": "2023-12-28T18:47:11.656198Z",
     "shell.execute_reply": "2023-12-28T18:47:11.655216Z"
    },
    "papermill": {
     "duration": 0.81983,
     "end_time": "2023-12-28T18:47:11.658505",
     "exception": false,
     "start_time": "2023-12-28T18:47:10.838675",
     "status": "completed"
    },
    "tags": []
   },
   "outputs": [],
   "source": [
    "import numpy as np\n",
    "import pandas as pd"
   ]
  },
  {
   "cell_type": "code",
   "execution_count": 2,
   "id": "6cd35fd1",
   "metadata": {
    "execution": {
     "iopub.execute_input": "2023-12-28T18:47:11.674870Z",
     "iopub.status.busy": "2023-12-28T18:47:11.674447Z",
     "iopub.status.idle": "2023-12-28T18:47:12.677102Z",
     "shell.execute_reply": "2023-12-28T18:47:12.676080Z"
    },
    "papermill": {
     "duration": 1.013153,
     "end_time": "2023-12-28T18:47:12.679394",
     "exception": false,
     "start_time": "2023-12-28T18:47:11.666241",
     "status": "completed"
    },
    "tags": []
   },
   "outputs": [],
   "source": [
    "# import the data \n",
    "credits=pd.read_csv('../input/tmdb-movie-metadata/tmdb_5000_credits.csv')\n",
    "movies=pd.read_csv('../input/tmdb-movie-metadata/tmdb_5000_movies.csv')"
   ]
  },
  {
   "cell_type": "code",
   "execution_count": 3,
   "id": "59cfacb3",
   "metadata": {
    "execution": {
     "iopub.execute_input": "2023-12-28T18:47:12.695874Z",
     "iopub.status.busy": "2023-12-28T18:47:12.695521Z",
     "iopub.status.idle": "2023-12-28T18:47:12.723665Z",
     "shell.execute_reply": "2023-12-28T18:47:12.722799Z"
    },
    "papermill": {
     "duration": 0.038385,
     "end_time": "2023-12-28T18:47:12.725502",
     "exception": false,
     "start_time": "2023-12-28T18:47:12.687117",
     "status": "completed"
    },
    "tags": []
   },
   "outputs": [
    {
     "data": {
      "text/html": [
       "<div>\n",
       "<style scoped>\n",
       "    .dataframe tbody tr th:only-of-type {\n",
       "        vertical-align: middle;\n",
       "    }\n",
       "\n",
       "    .dataframe tbody tr th {\n",
       "        vertical-align: top;\n",
       "    }\n",
       "\n",
       "    .dataframe thead th {\n",
       "        text-align: right;\n",
       "    }\n",
       "</style>\n",
       "<table border=\"1\" class=\"dataframe\">\n",
       "  <thead>\n",
       "    <tr style=\"text-align: right;\">\n",
       "      <th></th>\n",
       "      <th>budget</th>\n",
       "      <th>genres</th>\n",
       "      <th>homepage</th>\n",
       "      <th>id</th>\n",
       "      <th>keywords</th>\n",
       "      <th>original_language</th>\n",
       "      <th>original_title</th>\n",
       "      <th>overview</th>\n",
       "      <th>popularity</th>\n",
       "      <th>production_companies</th>\n",
       "      <th>production_countries</th>\n",
       "      <th>release_date</th>\n",
       "      <th>revenue</th>\n",
       "      <th>runtime</th>\n",
       "      <th>spoken_languages</th>\n",
       "      <th>status</th>\n",
       "      <th>tagline</th>\n",
       "      <th>title</th>\n",
       "      <th>vote_average</th>\n",
       "      <th>vote_count</th>\n",
       "    </tr>\n",
       "  </thead>\n",
       "  <tbody>\n",
       "    <tr>\n",
       "      <th>0</th>\n",
       "      <td>237000000</td>\n",
       "      <td>[{\"id\": 28, \"name\": \"Action\"}, {\"id\": 12, \"nam...</td>\n",
       "      <td>http://www.avatarmovie.com/</td>\n",
       "      <td>19995</td>\n",
       "      <td>[{\"id\": 1463, \"name\": \"culture clash\"}, {\"id\":...</td>\n",
       "      <td>en</td>\n",
       "      <td>Avatar</td>\n",
       "      <td>In the 22nd century, a paraplegic Marine is di...</td>\n",
       "      <td>150.437577</td>\n",
       "      <td>[{\"name\": \"Ingenious Film Partners\", \"id\": 289...</td>\n",
       "      <td>[{\"iso_3166_1\": \"US\", \"name\": \"United States o...</td>\n",
       "      <td>2009-12-10</td>\n",
       "      <td>2787965087</td>\n",
       "      <td>162.0</td>\n",
       "      <td>[{\"iso_639_1\": \"en\", \"name\": \"English\"}, {\"iso...</td>\n",
       "      <td>Released</td>\n",
       "      <td>Enter the World of Pandora.</td>\n",
       "      <td>Avatar</td>\n",
       "      <td>7.2</td>\n",
       "      <td>11800</td>\n",
       "    </tr>\n",
       "    <tr>\n",
       "      <th>1</th>\n",
       "      <td>300000000</td>\n",
       "      <td>[{\"id\": 12, \"name\": \"Adventure\"}, {\"id\": 14, \"...</td>\n",
       "      <td>http://disney.go.com/disneypictures/pirates/</td>\n",
       "      <td>285</td>\n",
       "      <td>[{\"id\": 270, \"name\": \"ocean\"}, {\"id\": 726, \"na...</td>\n",
       "      <td>en</td>\n",
       "      <td>Pirates of the Caribbean: At World's End</td>\n",
       "      <td>Captain Barbossa, long believed to be dead, ha...</td>\n",
       "      <td>139.082615</td>\n",
       "      <td>[{\"name\": \"Walt Disney Pictures\", \"id\": 2}, {\"...</td>\n",
       "      <td>[{\"iso_3166_1\": \"US\", \"name\": \"United States o...</td>\n",
       "      <td>2007-05-19</td>\n",
       "      <td>961000000</td>\n",
       "      <td>169.0</td>\n",
       "      <td>[{\"iso_639_1\": \"en\", \"name\": \"English\"}]</td>\n",
       "      <td>Released</td>\n",
       "      <td>At the end of the world, the adventure begins.</td>\n",
       "      <td>Pirates of the Caribbean: At World's End</td>\n",
       "      <td>6.9</td>\n",
       "      <td>4500</td>\n",
       "    </tr>\n",
       "  </tbody>\n",
       "</table>\n",
       "</div>"
      ],
      "text/plain": [
       "      budget                                             genres  \\\n",
       "0  237000000  [{\"id\": 28, \"name\": \"Action\"}, {\"id\": 12, \"nam...   \n",
       "1  300000000  [{\"id\": 12, \"name\": \"Adventure\"}, {\"id\": 14, \"...   \n",
       "\n",
       "                                       homepage     id  \\\n",
       "0                   http://www.avatarmovie.com/  19995   \n",
       "1  http://disney.go.com/disneypictures/pirates/    285   \n",
       "\n",
       "                                            keywords original_language  \\\n",
       "0  [{\"id\": 1463, \"name\": \"culture clash\"}, {\"id\":...                en   \n",
       "1  [{\"id\": 270, \"name\": \"ocean\"}, {\"id\": 726, \"na...                en   \n",
       "\n",
       "                             original_title  \\\n",
       "0                                    Avatar   \n",
       "1  Pirates of the Caribbean: At World's End   \n",
       "\n",
       "                                            overview  popularity  \\\n",
       "0  In the 22nd century, a paraplegic Marine is di...  150.437577   \n",
       "1  Captain Barbossa, long believed to be dead, ha...  139.082615   \n",
       "\n",
       "                                production_companies  \\\n",
       "0  [{\"name\": \"Ingenious Film Partners\", \"id\": 289...   \n",
       "1  [{\"name\": \"Walt Disney Pictures\", \"id\": 2}, {\"...   \n",
       "\n",
       "                                production_countries release_date     revenue  \\\n",
       "0  [{\"iso_3166_1\": \"US\", \"name\": \"United States o...   2009-12-10  2787965087   \n",
       "1  [{\"iso_3166_1\": \"US\", \"name\": \"United States o...   2007-05-19   961000000   \n",
       "\n",
       "   runtime                                   spoken_languages    status  \\\n",
       "0    162.0  [{\"iso_639_1\": \"en\", \"name\": \"English\"}, {\"iso...  Released   \n",
       "1    169.0           [{\"iso_639_1\": \"en\", \"name\": \"English\"}]  Released   \n",
       "\n",
       "                                          tagline  \\\n",
       "0                     Enter the World of Pandora.   \n",
       "1  At the end of the world, the adventure begins.   \n",
       "\n",
       "                                      title  vote_average  vote_count  \n",
       "0                                    Avatar           7.2       11800  \n",
       "1  Pirates of the Caribbean: At World's End           6.9        4500  "
      ]
     },
     "execution_count": 3,
     "metadata": {},
     "output_type": "execute_result"
    }
   ],
   "source": [
    "# shows the data of movies\n",
    "movies.head(2)"
   ]
  },
  {
   "cell_type": "code",
   "execution_count": 4,
   "id": "6e333f28",
   "metadata": {
    "execution": {
     "iopub.execute_input": "2023-12-28T18:47:12.741647Z",
     "iopub.status.busy": "2023-12-28T18:47:12.741367Z",
     "iopub.status.idle": "2023-12-28T18:47:12.768965Z",
     "shell.execute_reply": "2023-12-28T18:47:12.768270Z"
    },
    "papermill": {
     "duration": 0.037816,
     "end_time": "2023-12-28T18:47:12.770882",
     "exception": false,
     "start_time": "2023-12-28T18:47:12.733066",
     "status": "completed"
    },
    "tags": []
   },
   "outputs": [],
   "source": [
    "# merge the two dataset and name as movies\n",
    "movies = movies.merge(credits, on = 'title')\n"
   ]
  },
  {
   "cell_type": "code",
   "execution_count": 5,
   "id": "49801913",
   "metadata": {
    "execution": {
     "iopub.execute_input": "2023-12-28T18:47:12.787084Z",
     "iopub.status.busy": "2023-12-28T18:47:12.786819Z",
     "iopub.status.idle": "2023-12-28T18:47:12.808110Z",
     "shell.execute_reply": "2023-12-28T18:47:12.807269Z"
    },
    "papermill": {
     "duration": 0.031562,
     "end_time": "2023-12-28T18:47:12.810005",
     "exception": false,
     "start_time": "2023-12-28T18:47:12.778443",
     "status": "completed"
    },
    "tags": []
   },
   "outputs": [
    {
     "data": {
      "text/html": [
       "<div>\n",
       "<style scoped>\n",
       "    .dataframe tbody tr th:only-of-type {\n",
       "        vertical-align: middle;\n",
       "    }\n",
       "\n",
       "    .dataframe tbody tr th {\n",
       "        vertical-align: top;\n",
       "    }\n",
       "\n",
       "    .dataframe thead th {\n",
       "        text-align: right;\n",
       "    }\n",
       "</style>\n",
       "<table border=\"1\" class=\"dataframe\">\n",
       "  <thead>\n",
       "    <tr style=\"text-align: right;\">\n",
       "      <th></th>\n",
       "      <th>budget</th>\n",
       "      <th>genres</th>\n",
       "      <th>homepage</th>\n",
       "      <th>id</th>\n",
       "      <th>keywords</th>\n",
       "      <th>original_language</th>\n",
       "      <th>original_title</th>\n",
       "      <th>overview</th>\n",
       "      <th>popularity</th>\n",
       "      <th>production_companies</th>\n",
       "      <th>...</th>\n",
       "      <th>runtime</th>\n",
       "      <th>spoken_languages</th>\n",
       "      <th>status</th>\n",
       "      <th>tagline</th>\n",
       "      <th>title</th>\n",
       "      <th>vote_average</th>\n",
       "      <th>vote_count</th>\n",
       "      <th>movie_id</th>\n",
       "      <th>cast</th>\n",
       "      <th>crew</th>\n",
       "    </tr>\n",
       "  </thead>\n",
       "  <tbody>\n",
       "    <tr>\n",
       "      <th>0</th>\n",
       "      <td>237000000</td>\n",
       "      <td>[{\"id\": 28, \"name\": \"Action\"}, {\"id\": 12, \"nam...</td>\n",
       "      <td>http://www.avatarmovie.com/</td>\n",
       "      <td>19995</td>\n",
       "      <td>[{\"id\": 1463, \"name\": \"culture clash\"}, {\"id\":...</td>\n",
       "      <td>en</td>\n",
       "      <td>Avatar</td>\n",
       "      <td>In the 22nd century, a paraplegic Marine is di...</td>\n",
       "      <td>150.437577</td>\n",
       "      <td>[{\"name\": \"Ingenious Film Partners\", \"id\": 289...</td>\n",
       "      <td>...</td>\n",
       "      <td>162.0</td>\n",
       "      <td>[{\"iso_639_1\": \"en\", \"name\": \"English\"}, {\"iso...</td>\n",
       "      <td>Released</td>\n",
       "      <td>Enter the World of Pandora.</td>\n",
       "      <td>Avatar</td>\n",
       "      <td>7.2</td>\n",
       "      <td>11800</td>\n",
       "      <td>19995</td>\n",
       "      <td>[{\"cast_id\": 242, \"character\": \"Jake Sully\", \"...</td>\n",
       "      <td>[{\"credit_id\": \"52fe48009251416c750aca23\", \"de...</td>\n",
       "    </tr>\n",
       "    <tr>\n",
       "      <th>1</th>\n",
       "      <td>300000000</td>\n",
       "      <td>[{\"id\": 12, \"name\": \"Adventure\"}, {\"id\": 14, \"...</td>\n",
       "      <td>http://disney.go.com/disneypictures/pirates/</td>\n",
       "      <td>285</td>\n",
       "      <td>[{\"id\": 270, \"name\": \"ocean\"}, {\"id\": 726, \"na...</td>\n",
       "      <td>en</td>\n",
       "      <td>Pirates of the Caribbean: At World's End</td>\n",
       "      <td>Captain Barbossa, long believed to be dead, ha...</td>\n",
       "      <td>139.082615</td>\n",
       "      <td>[{\"name\": \"Walt Disney Pictures\", \"id\": 2}, {\"...</td>\n",
       "      <td>...</td>\n",
       "      <td>169.0</td>\n",
       "      <td>[{\"iso_639_1\": \"en\", \"name\": \"English\"}]</td>\n",
       "      <td>Released</td>\n",
       "      <td>At the end of the world, the adventure begins.</td>\n",
       "      <td>Pirates of the Caribbean: At World's End</td>\n",
       "      <td>6.9</td>\n",
       "      <td>4500</td>\n",
       "      <td>285</td>\n",
       "      <td>[{\"cast_id\": 4, \"character\": \"Captain Jack Spa...</td>\n",
       "      <td>[{\"credit_id\": \"52fe4232c3a36847f800b579\", \"de...</td>\n",
       "    </tr>\n",
       "  </tbody>\n",
       "</table>\n",
       "<p>2 rows × 23 columns</p>\n",
       "</div>"
      ],
      "text/plain": [
       "      budget                                             genres  \\\n",
       "0  237000000  [{\"id\": 28, \"name\": \"Action\"}, {\"id\": 12, \"nam...   \n",
       "1  300000000  [{\"id\": 12, \"name\": \"Adventure\"}, {\"id\": 14, \"...   \n",
       "\n",
       "                                       homepage     id  \\\n",
       "0                   http://www.avatarmovie.com/  19995   \n",
       "1  http://disney.go.com/disneypictures/pirates/    285   \n",
       "\n",
       "                                            keywords original_language  \\\n",
       "0  [{\"id\": 1463, \"name\": \"culture clash\"}, {\"id\":...                en   \n",
       "1  [{\"id\": 270, \"name\": \"ocean\"}, {\"id\": 726, \"na...                en   \n",
       "\n",
       "                             original_title  \\\n",
       "0                                    Avatar   \n",
       "1  Pirates of the Caribbean: At World's End   \n",
       "\n",
       "                                            overview  popularity  \\\n",
       "0  In the 22nd century, a paraplegic Marine is di...  150.437577   \n",
       "1  Captain Barbossa, long believed to be dead, ha...  139.082615   \n",
       "\n",
       "                                production_companies  ... runtime  \\\n",
       "0  [{\"name\": \"Ingenious Film Partners\", \"id\": 289...  ...   162.0   \n",
       "1  [{\"name\": \"Walt Disney Pictures\", \"id\": 2}, {\"...  ...   169.0   \n",
       "\n",
       "                                    spoken_languages    status  \\\n",
       "0  [{\"iso_639_1\": \"en\", \"name\": \"English\"}, {\"iso...  Released   \n",
       "1           [{\"iso_639_1\": \"en\", \"name\": \"English\"}]  Released   \n",
       "\n",
       "                                          tagline  \\\n",
       "0                     Enter the World of Pandora.   \n",
       "1  At the end of the world, the adventure begins.   \n",
       "\n",
       "                                      title vote_average vote_count movie_id  \\\n",
       "0                                    Avatar          7.2      11800    19995   \n",
       "1  Pirates of the Caribbean: At World's End          6.9       4500      285   \n",
       "\n",
       "                                                cast  \\\n",
       "0  [{\"cast_id\": 242, \"character\": \"Jake Sully\", \"...   \n",
       "1  [{\"cast_id\": 4, \"character\": \"Captain Jack Spa...   \n",
       "\n",
       "                                                crew  \n",
       "0  [{\"credit_id\": \"52fe48009251416c750aca23\", \"de...  \n",
       "1  [{\"credit_id\": \"52fe4232c3a36847f800b579\", \"de...  \n",
       "\n",
       "[2 rows x 23 columns]"
      ]
     },
     "execution_count": 5,
     "metadata": {},
     "output_type": "execute_result"
    }
   ],
   "source": [
    "movies.head(2)"
   ]
  },
  {
   "cell_type": "code",
   "execution_count": 6,
   "id": "355ece33",
   "metadata": {
    "execution": {
     "iopub.execute_input": "2023-12-28T18:47:12.827428Z",
     "iopub.status.busy": "2023-12-28T18:47:12.827167Z",
     "iopub.status.idle": "2023-12-28T18:47:12.851587Z",
     "shell.execute_reply": "2023-12-28T18:47:12.850549Z"
    },
    "papermill": {
     "duration": 0.035641,
     "end_time": "2023-12-28T18:47:12.853552",
     "exception": false,
     "start_time": "2023-12-28T18:47:12.817911",
     "status": "completed"
    },
    "tags": []
   },
   "outputs": [
    {
     "name": "stdout",
     "output_type": "stream",
     "text": [
      "<class 'pandas.core.frame.DataFrame'>\n",
      "RangeIndex: 4809 entries, 0 to 4808\n",
      "Data columns (total 23 columns):\n",
      " #   Column                Non-Null Count  Dtype  \n",
      "---  ------                --------------  -----  \n",
      " 0   budget                4809 non-null   int64  \n",
      " 1   genres                4809 non-null   object \n",
      " 2   homepage              1713 non-null   object \n",
      " 3   id                    4809 non-null   int64  \n",
      " 4   keywords              4809 non-null   object \n",
      " 5   original_language     4809 non-null   object \n",
      " 6   original_title        4809 non-null   object \n",
      " 7   overview              4806 non-null   object \n",
      " 8   popularity            4809 non-null   float64\n",
      " 9   production_companies  4809 non-null   object \n",
      " 10  production_countries  4809 non-null   object \n",
      " 11  release_date          4808 non-null   object \n",
      " 12  revenue               4809 non-null   int64  \n",
      " 13  runtime               4807 non-null   float64\n",
      " 14  spoken_languages      4809 non-null   object \n",
      " 15  status                4809 non-null   object \n",
      " 16  tagline               3965 non-null   object \n",
      " 17  title                 4809 non-null   object \n",
      " 18  vote_average          4809 non-null   float64\n",
      " 19  vote_count            4809 non-null   int64  \n",
      " 20  movie_id              4809 non-null   int64  \n",
      " 21  cast                  4809 non-null   object \n",
      " 22  crew                  4809 non-null   object \n",
      "dtypes: float64(3), int64(5), object(15)\n",
      "memory usage: 864.2+ KB\n"
     ]
    }
   ],
   "source": [
    "#now shows the data\n",
    "movies.info()"
   ]
  },
  {
   "cell_type": "code",
   "execution_count": 7,
   "id": "e323bd39",
   "metadata": {
    "execution": {
     "iopub.execute_input": "2023-12-28T18:47:12.871199Z",
     "iopub.status.busy": "2023-12-28T18:47:12.870436Z",
     "iopub.status.idle": "2023-12-28T18:47:12.875992Z",
     "shell.execute_reply": "2023-12-28T18:47:12.875149Z"
    },
    "papermill": {
     "duration": 0.016457,
     "end_time": "2023-12-28T18:47:12.877929",
     "exception": false,
     "start_time": "2023-12-28T18:47:12.861472",
     "status": "completed"
    },
    "tags": []
   },
   "outputs": [],
   "source": [
    "movies = movies[['genres', 'id', 'keywords', 'title', 'overview', 'release_date', 'cast','crew']]\n",
    "#movies = movies[['movie_id','title','overview','genres','keywords','cast','crew']]"
   ]
  },
  {
   "cell_type": "code",
   "execution_count": 8,
   "id": "8eadd634",
   "metadata": {
    "execution": {
     "iopub.execute_input": "2023-12-28T18:47:12.895039Z",
     "iopub.status.busy": "2023-12-28T18:47:12.894786Z",
     "iopub.status.idle": "2023-12-28T18:47:12.906268Z",
     "shell.execute_reply": "2023-12-28T18:47:12.905458Z"
    },
    "papermill": {
     "duration": 0.022057,
     "end_time": "2023-12-28T18:47:12.908060",
     "exception": false,
     "start_time": "2023-12-28T18:47:12.886003",
     "status": "completed"
    },
    "tags": []
   },
   "outputs": [
    {
     "data": {
      "text/html": [
       "<div>\n",
       "<style scoped>\n",
       "    .dataframe tbody tr th:only-of-type {\n",
       "        vertical-align: middle;\n",
       "    }\n",
       "\n",
       "    .dataframe tbody tr th {\n",
       "        vertical-align: top;\n",
       "    }\n",
       "\n",
       "    .dataframe thead th {\n",
       "        text-align: right;\n",
       "    }\n",
       "</style>\n",
       "<table border=\"1\" class=\"dataframe\">\n",
       "  <thead>\n",
       "    <tr style=\"text-align: right;\">\n",
       "      <th></th>\n",
       "      <th>genres</th>\n",
       "      <th>id</th>\n",
       "      <th>keywords</th>\n",
       "      <th>title</th>\n",
       "      <th>overview</th>\n",
       "      <th>release_date</th>\n",
       "      <th>cast</th>\n",
       "      <th>crew</th>\n",
       "    </tr>\n",
       "  </thead>\n",
       "  <tbody>\n",
       "    <tr>\n",
       "      <th>0</th>\n",
       "      <td>[{\"id\": 28, \"name\": \"Action\"}, {\"id\": 12, \"nam...</td>\n",
       "      <td>19995</td>\n",
       "      <td>[{\"id\": 1463, \"name\": \"culture clash\"}, {\"id\":...</td>\n",
       "      <td>Avatar</td>\n",
       "      <td>In the 22nd century, a paraplegic Marine is di...</td>\n",
       "      <td>2009-12-10</td>\n",
       "      <td>[{\"cast_id\": 242, \"character\": \"Jake Sully\", \"...</td>\n",
       "      <td>[{\"credit_id\": \"52fe48009251416c750aca23\", \"de...</td>\n",
       "    </tr>\n",
       "    <tr>\n",
       "      <th>1</th>\n",
       "      <td>[{\"id\": 12, \"name\": \"Adventure\"}, {\"id\": 14, \"...</td>\n",
       "      <td>285</td>\n",
       "      <td>[{\"id\": 270, \"name\": \"ocean\"}, {\"id\": 726, \"na...</td>\n",
       "      <td>Pirates of the Caribbean: At World's End</td>\n",
       "      <td>Captain Barbossa, long believed to be dead, ha...</td>\n",
       "      <td>2007-05-19</td>\n",
       "      <td>[{\"cast_id\": 4, \"character\": \"Captain Jack Spa...</td>\n",
       "      <td>[{\"credit_id\": \"52fe4232c3a36847f800b579\", \"de...</td>\n",
       "    </tr>\n",
       "  </tbody>\n",
       "</table>\n",
       "</div>"
      ],
      "text/plain": [
       "                                              genres     id  \\\n",
       "0  [{\"id\": 28, \"name\": \"Action\"}, {\"id\": 12, \"nam...  19995   \n",
       "1  [{\"id\": 12, \"name\": \"Adventure\"}, {\"id\": 14, \"...    285   \n",
       "\n",
       "                                            keywords  \\\n",
       "0  [{\"id\": 1463, \"name\": \"culture clash\"}, {\"id\":...   \n",
       "1  [{\"id\": 270, \"name\": \"ocean\"}, {\"id\": 726, \"na...   \n",
       "\n",
       "                                      title  \\\n",
       "0                                    Avatar   \n",
       "1  Pirates of the Caribbean: At World's End   \n",
       "\n",
       "                                            overview release_date  \\\n",
       "0  In the 22nd century, a paraplegic Marine is di...   2009-12-10   \n",
       "1  Captain Barbossa, long believed to be dead, ha...   2007-05-19   \n",
       "\n",
       "                                                cast  \\\n",
       "0  [{\"cast_id\": 242, \"character\": \"Jake Sully\", \"...   \n",
       "1  [{\"cast_id\": 4, \"character\": \"Captain Jack Spa...   \n",
       "\n",
       "                                                crew  \n",
       "0  [{\"credit_id\": \"52fe48009251416c750aca23\", \"de...  \n",
       "1  [{\"credit_id\": \"52fe4232c3a36847f800b579\", \"de...  "
      ]
     },
     "execution_count": 8,
     "metadata": {},
     "output_type": "execute_result"
    }
   ],
   "source": [
    "movies.head(2)"
   ]
  },
  {
   "cell_type": "code",
   "execution_count": 9,
   "id": "8da0f1f3",
   "metadata": {
    "execution": {
     "iopub.execute_input": "2023-12-28T18:47:12.925751Z",
     "iopub.status.busy": "2023-12-28T18:47:12.925067Z",
     "iopub.status.idle": "2023-12-28T18:47:12.934988Z",
     "shell.execute_reply": "2023-12-28T18:47:12.934251Z"
    },
    "papermill": {
     "duration": 0.020573,
     "end_time": "2023-12-28T18:47:12.936841",
     "exception": false,
     "start_time": "2023-12-28T18:47:12.916268",
     "status": "completed"
    },
    "tags": []
   },
   "outputs": [
    {
     "data": {
      "text/plain": [
       "genres          0\n",
       "id              0\n",
       "keywords        0\n",
       "title           0\n",
       "overview        3\n",
       "release_date    1\n",
       "cast            0\n",
       "crew            0\n",
       "dtype: int64"
      ]
     },
     "execution_count": 9,
     "metadata": {},
     "output_type": "execute_result"
    }
   ],
   "source": [
    "movies.isnull().sum()"
   ]
  },
  {
   "cell_type": "code",
   "execution_count": 10,
   "id": "c2d29298",
   "metadata": {
    "execution": {
     "iopub.execute_input": "2023-12-28T18:47:12.954305Z",
     "iopub.status.busy": "2023-12-28T18:47:12.954043Z",
     "iopub.status.idle": "2023-12-28T18:47:13.052167Z",
     "shell.execute_reply": "2023-12-28T18:47:13.051160Z"
    },
    "papermill": {
     "duration": 0.109558,
     "end_time": "2023-12-28T18:47:13.054532",
     "exception": false,
     "start_time": "2023-12-28T18:47:12.944974",
     "status": "completed"
    },
    "tags": []
   },
   "outputs": [
    {
     "data": {
      "text/plain": [
       "0"
      ]
     },
     "execution_count": 10,
     "metadata": {},
     "output_type": "execute_result"
    }
   ],
   "source": [
    "movies.dropna(inplace=True)\n",
    "movies.duplicated().sum()"
   ]
  },
  {
   "cell_type": "code",
   "execution_count": 11,
   "id": "531548a1",
   "metadata": {
    "execution": {
     "iopub.execute_input": "2023-12-28T18:47:13.074903Z",
     "iopub.status.busy": "2023-12-28T18:47:13.074561Z",
     "iopub.status.idle": "2023-12-28T18:47:13.081313Z",
     "shell.execute_reply": "2023-12-28T18:47:13.080216Z"
    },
    "papermill": {
     "duration": 0.019728,
     "end_time": "2023-12-28T18:47:13.083627",
     "exception": false,
     "start_time": "2023-12-28T18:47:13.063899",
     "status": "completed"
    },
    "tags": []
   },
   "outputs": [
    {
     "data": {
      "text/plain": [
       "'[{\"id\": 28, \"name\": \"Action\"}, {\"id\": 12, \"name\": \"Adventure\"}, {\"id\": 14, \"name\": \"Fantasy\"}, {\"id\": 878, \"name\": \"Science Fiction\"}]'"
      ]
     },
     "execution_count": 11,
     "metadata": {},
     "output_type": "execute_result"
    }
   ],
   "source": [
    "movies.iloc[0].genres"
   ]
  },
  {
   "cell_type": "code",
   "execution_count": 12,
   "id": "bfb684b0",
   "metadata": {
    "execution": {
     "iopub.execute_input": "2023-12-28T18:47:13.105301Z",
     "iopub.status.busy": "2023-12-28T18:47:13.105010Z",
     "iopub.status.idle": "2023-12-28T18:47:13.112710Z",
     "shell.execute_reply": "2023-12-28T18:47:13.111753Z"
    },
    "papermill": {
     "duration": 0.021205,
     "end_time": "2023-12-28T18:47:13.114930",
     "exception": false,
     "start_time": "2023-12-28T18:47:13.093725",
     "status": "completed"
    },
    "tags": []
   },
   "outputs": [],
   "source": [
    "import ast\n",
    "def convert(obj):\n",
    "    l=[]\n",
    "    for i in ast.literal_eval(obj):\n",
    "        l.append(i['name'])\n",
    "    return l\n",
    "\n",
    "def convertcast(obj):\n",
    "    l=[]\n",
    "    counter = 0\n",
    "    for i in ast.literal_eval(obj):\n",
    "        if counter != 5:\n",
    "            l.append(i['name'])\n",
    "            counter +=1\n",
    "        else:\n",
    "            break\n",
    "    return l\n",
    "def fetch_director(obj):\n",
    "    l = []\n",
    "    for i in ast.literal_eval(obj):\n",
    "        if i['job'] == 'Directot':\n",
    "            l.append(i['name'])\n",
    "            break\n",
    "    return l"
   ]
  },
  {
   "cell_type": "code",
   "execution_count": 13,
   "id": "39d1fe09",
   "metadata": {
    "execution": {
     "iopub.execute_input": "2023-12-28T18:47:13.138261Z",
     "iopub.status.busy": "2023-12-28T18:47:13.137898Z",
     "iopub.status.idle": "2023-12-28T18:47:20.972895Z",
     "shell.execute_reply": "2023-12-28T18:47:20.972087Z"
    },
    "papermill": {
     "duration": 7.850324,
     "end_time": "2023-12-28T18:47:20.975252",
     "exception": false,
     "start_time": "2023-12-28T18:47:13.124928",
     "status": "completed"
    },
    "tags": []
   },
   "outputs": [],
   "source": [
    "movies['genres'] = movies['genres'].apply(convert)\n",
    "movies['keywords'] = movies['keywords'].apply(convert)\n",
    "movies['cast'] = movies['cast'].apply(convertcast)\n",
    "movies['crew'] = movies['crew'].apply(fetch_director)\n",
    "movies['overview'] = movies['overview'].apply(lambda x:x.split())"
   ]
  },
  {
   "cell_type": "code",
   "execution_count": 14,
   "id": "623d420e",
   "metadata": {
    "execution": {
     "iopub.execute_input": "2023-12-28T18:47:20.994169Z",
     "iopub.status.busy": "2023-12-28T18:47:20.993875Z",
     "iopub.status.idle": "2023-12-28T18:47:21.094613Z",
     "shell.execute_reply": "2023-12-28T18:47:21.093608Z"
    },
    "papermill": {
     "duration": 0.112225,
     "end_time": "2023-12-28T18:47:21.096641",
     "exception": false,
     "start_time": "2023-12-28T18:47:20.984416",
     "status": "completed"
    },
    "tags": []
   },
   "outputs": [],
   "source": [
    "movies['genres'] = movies['genres'].apply(lambda x:[i.replace(\" \",'') for i in x])\n",
    "movies['keywords'] = movies['keywords'].apply(lambda x:[i.replace(\" \",'') for i in x])\n",
    "movies['cast'] = movies['cast'].apply(lambda x:[i.replace(\" \",'') for i in x])\n",
    "movies['crew'] = movies['crew'].apply(lambda x:[i.replace(\" \",'') for i in x])\n"
   ]
  },
  {
   "cell_type": "code",
   "execution_count": 15,
   "id": "aaf4a110",
   "metadata": {
    "execution": {
     "iopub.execute_input": "2023-12-28T18:47:21.116392Z",
     "iopub.status.busy": "2023-12-28T18:47:21.116090Z",
     "iopub.status.idle": "2023-12-28T18:47:21.152711Z",
     "shell.execute_reply": "2023-12-28T18:47:21.151887Z"
    },
    "papermill": {
     "duration": 0.048588,
     "end_time": "2023-12-28T18:47:21.154625",
     "exception": false,
     "start_time": "2023-12-28T18:47:21.106037",
     "status": "completed"
    },
    "tags": []
   },
   "outputs": [],
   "source": [
    "movies['tags'] = movies['overview'] + movies['genres'] + movies['keywords'] + movies['cast'] + movies['crew']"
   ]
  },
  {
   "cell_type": "code",
   "execution_count": 16,
   "id": "338fbfad",
   "metadata": {
    "execution": {
     "iopub.execute_input": "2023-12-28T18:47:21.173749Z",
     "iopub.status.busy": "2023-12-28T18:47:21.173437Z",
     "iopub.status.idle": "2023-12-28T18:47:21.178931Z",
     "shell.execute_reply": "2023-12-28T18:47:21.178046Z"
    },
    "papermill": {
     "duration": 0.017355,
     "end_time": "2023-12-28T18:47:21.180830",
     "exception": false,
     "start_time": "2023-12-28T18:47:21.163475",
     "status": "completed"
    },
    "tags": []
   },
   "outputs": [],
   "source": [
    "new = movies.drop(columns=['overview','genres','keywords','cast','crew','release_date'])\n",
    "#new.head()"
   ]
  },
  {
   "cell_type": "code",
   "execution_count": 17,
   "id": "8ee63449",
   "metadata": {
    "execution": {
     "iopub.execute_input": "2023-12-28T18:47:21.200910Z",
     "iopub.status.busy": "2023-12-28T18:47:21.200357Z",
     "iopub.status.idle": "2023-12-28T18:47:21.225967Z",
     "shell.execute_reply": "2023-12-28T18:47:21.225049Z"
    },
    "papermill": {
     "duration": 0.038539,
     "end_time": "2023-12-28T18:47:21.227788",
     "exception": false,
     "start_time": "2023-12-28T18:47:21.189249",
     "status": "completed"
    },
    "tags": []
   },
   "outputs": [
    {
     "data": {
      "text/html": [
       "<div>\n",
       "<style scoped>\n",
       "    .dataframe tbody tr th:only-of-type {\n",
       "        vertical-align: middle;\n",
       "    }\n",
       "\n",
       "    .dataframe tbody tr th {\n",
       "        vertical-align: top;\n",
       "    }\n",
       "\n",
       "    .dataframe thead th {\n",
       "        text-align: right;\n",
       "    }\n",
       "</style>\n",
       "<table border=\"1\" class=\"dataframe\">\n",
       "  <thead>\n",
       "    <tr style=\"text-align: right;\">\n",
       "      <th></th>\n",
       "      <th>id</th>\n",
       "      <th>title</th>\n",
       "      <th>tags</th>\n",
       "    </tr>\n",
       "  </thead>\n",
       "  <tbody>\n",
       "    <tr>\n",
       "      <th>0</th>\n",
       "      <td>19995</td>\n",
       "      <td>Avatar</td>\n",
       "      <td>In the 22nd century, a paraplegic Marine is di...</td>\n",
       "    </tr>\n",
       "    <tr>\n",
       "      <th>1</th>\n",
       "      <td>285</td>\n",
       "      <td>Pirates of the Caribbean: At World's End</td>\n",
       "      <td>Captain Barbossa, long believed to be dead, ha...</td>\n",
       "    </tr>\n",
       "    <tr>\n",
       "      <th>2</th>\n",
       "      <td>206647</td>\n",
       "      <td>Spectre</td>\n",
       "      <td>A cryptic message from Bond’s past sends him o...</td>\n",
       "    </tr>\n",
       "    <tr>\n",
       "      <th>3</th>\n",
       "      <td>49026</td>\n",
       "      <td>The Dark Knight Rises</td>\n",
       "      <td>Following the death of District Attorney Harve...</td>\n",
       "    </tr>\n",
       "    <tr>\n",
       "      <th>4</th>\n",
       "      <td>49529</td>\n",
       "      <td>John Carter</td>\n",
       "      <td>John Carter is a war-weary, former military ca...</td>\n",
       "    </tr>\n",
       "  </tbody>\n",
       "</table>\n",
       "</div>"
      ],
      "text/plain": [
       "       id                                     title  \\\n",
       "0   19995                                    Avatar   \n",
       "1     285  Pirates of the Caribbean: At World's End   \n",
       "2  206647                                   Spectre   \n",
       "3   49026                     The Dark Knight Rises   \n",
       "4   49529                               John Carter   \n",
       "\n",
       "                                                tags  \n",
       "0  In the 22nd century, a paraplegic Marine is di...  \n",
       "1  Captain Barbossa, long believed to be dead, ha...  \n",
       "2  A cryptic message from Bond’s past sends him o...  \n",
       "3  Following the death of District Attorney Harve...  \n",
       "4  John Carter is a war-weary, former military ca...  "
      ]
     },
     "execution_count": 17,
     "metadata": {},
     "output_type": "execute_result"
    }
   ],
   "source": [
    "new['tags'] = new['tags'].apply(lambda x: \" \".join(x))\n",
    "new.head()"
   ]
  },
  {
   "cell_type": "code",
   "execution_count": 18,
   "id": "c2b8d80d",
   "metadata": {
    "execution": {
     "iopub.execute_input": "2023-12-28T18:47:21.247227Z",
     "iopub.status.busy": "2023-12-28T18:47:21.246930Z",
     "iopub.status.idle": "2023-12-28T18:47:21.252527Z",
     "shell.execute_reply": "2023-12-28T18:47:21.251616Z"
    },
    "papermill": {
     "duration": 0.017895,
     "end_time": "2023-12-28T18:47:21.254556",
     "exception": false,
     "start_time": "2023-12-28T18:47:21.236661",
     "status": "completed"
    },
    "tags": []
   },
   "outputs": [],
   "source": [
    "# import re\n",
    "# import numpy as np\n",
    "# import pandas as pd\n",
    "# from sklearn.feature_extraction.text import TfidfVectorizer\n",
    "# from gensim.models import Word2Vec\n",
    "# from nltk.tokenize import word_tokenize\n",
    "# from nltk.corpus import stopwords\n",
    "\n",
    "# # Assuming 'movies' DataFrame is already defined\n",
    "\n",
    "# # Convert each tag to lowercase\n",
    "# movies['tags'] = movies['tags'].apply(lambda tags: [tag.lower() for tag in tags])\n",
    "\n",
    "# # Convert the list of tags to a string\n",
    "# movies['tags_str'] = movies['tags'].apply(lambda tags: ' '.join(tags))\n",
    "\n",
    "# # Tokenize\n",
    "# movies['tokens'] = movies['tags_str'].apply(lambda x: word_tokenize(x))\n",
    "\n",
    "# # Remove stop words\n",
    "# stop_words = set(stopwords.words('english'))\n",
    "# movies['tokens'] = movies['tokens'].apply(lambda x: [word for word in x if word not in stop_words])\n",
    "\n",
    "# # Build the Word2Vec model vocabulary\n",
    "# word2vec_model = Word2Vec(sentences=movies['tokens'].tolist(), vector_size=100, window=5, min_count=1, workers=4)\n",
    "\n",
    "# # Create TF-IDF vectorizer with n-grams\n",
    "# tfidf_vectorizer = TfidfVectorizer(ngram_range=(1, 2))\n",
    "# tfidf_matrix = tfidf_vectorizer.fit_transform(movies['tags_str'])\n",
    "\n",
    "# # Define a function to get the TF-IDF weighted Word2Vec representation for a document\n",
    "# def get_tfidf_w2v(doc, model, tfidf_model):\n",
    "#     tfidf_w2v_vectors = []\n",
    "#     for word in doc:\n",
    "#         try:\n",
    "#             tfidf = tfidf_model.vocabulary_[word] * tfidf_model.idf_[tfidf_model.vocabulary_[word]]\n",
    "#             word_vector = model.wv[word]\n",
    "#             tfidf_w2v_vectors.append(tfidf * word_vector)\n",
    "#         except KeyError:\n",
    "#             # Handle the case where the word is not in the Word2Vec vocabulary\n",
    "#             continue\n",
    "#     if not tfidf_w2v_vectors:\n",
    "#         return np.zeros(model.vector_size)\n",
    "#     tfidf_w2v_avg = np.sum(tfidf_w2v_vectors, axis=0) / np.sum(tfidf_model.idf_)\n",
    "#     return tfidf_w2v_avg\n",
    "\n",
    "# # Get TF-IDF weighted Word2Vec representation for each document\n",
    "# movies['TF-IDFtags'] = movies['tokens'].apply(lambda x: get_tfidf_w2v(x, word2vec_model, tfidf_vectorizer))\n",
    "\n",
    "# print(\"DataFrame with TF-IDF Weighted Word2Vec Representation:\")\n",
    "# print(movies[['tags', 'TF-IDFtags']])\n"
   ]
  },
  {
   "cell_type": "code",
   "execution_count": 19,
   "id": "710df789",
   "metadata": {
    "execution": {
     "iopub.execute_input": "2023-12-28T18:47:21.273662Z",
     "iopub.status.busy": "2023-12-28T18:47:21.273386Z",
     "iopub.status.idle": "2023-12-28T18:47:22.298683Z",
     "shell.execute_reply": "2023-12-28T18:47:22.297815Z"
    },
    "papermill": {
     "duration": 1.038091,
     "end_time": "2023-12-28T18:47:22.301559",
     "exception": false,
     "start_time": "2023-12-28T18:47:21.263468",
     "status": "completed"
    },
    "tags": []
   },
   "outputs": [
    {
     "name": "stderr",
     "output_type": "stream",
     "text": [
      "/opt/conda/lib/python3.10/site-packages/scipy/__init__.py:146: UserWarning: A NumPy version >=1.16.5 and <1.23.0 is required for this version of SciPy (detected version 1.23.5\n",
      "  warnings.warn(f\"A NumPy version >={np_minversion} and <{np_maxversion}\"\n"
     ]
    }
   ],
   "source": [
    "from sklearn.feature_extraction.text import CountVectorizer\n",
    "cv = CountVectorizer(max_features=5000,stop_words='english')"
   ]
  },
  {
   "cell_type": "code",
   "execution_count": 20,
   "id": "6ce0f664",
   "metadata": {
    "execution": {
     "iopub.execute_input": "2023-12-28T18:47:22.322602Z",
     "iopub.status.busy": "2023-12-28T18:47:22.322273Z",
     "iopub.status.idle": "2023-12-28T18:47:22.948887Z",
     "shell.execute_reply": "2023-12-28T18:47:22.947904Z"
    },
    "papermill": {
     "duration": 0.639356,
     "end_time": "2023-12-28T18:47:22.950994",
     "exception": false,
     "start_time": "2023-12-28T18:47:22.311638",
     "status": "completed"
    },
    "tags": []
   },
   "outputs": [
    {
     "data": {
      "text/plain": [
       "(4805, 5000)"
      ]
     },
     "execution_count": 20,
     "metadata": {},
     "output_type": "execute_result"
    }
   ],
   "source": [
    "vector = cv.fit_transform(new['tags']).toarray()\n",
    "vector.shape"
   ]
  },
  {
   "cell_type": "code",
   "execution_count": null,
   "id": "4b0b6746",
   "metadata": {
    "papermill": {
     "duration": 0.008952,
     "end_time": "2023-12-28T18:47:22.969119",
     "exception": false,
     "start_time": "2023-12-28T18:47:22.960167",
     "status": "completed"
    },
    "tags": []
   },
   "outputs": [],
   "source": []
  },
  {
   "cell_type": "code",
   "execution_count": 21,
   "id": "8d2d458e",
   "metadata": {
    "execution": {
     "iopub.execute_input": "2023-12-28T18:47:22.988336Z",
     "iopub.status.busy": "2023-12-28T18:47:22.988043Z",
     "iopub.status.idle": "2023-12-28T18:47:24.462076Z",
     "shell.execute_reply": "2023-12-28T18:47:24.460688Z"
    },
    "papermill": {
     "duration": 1.487713,
     "end_time": "2023-12-28T18:47:24.465752",
     "exception": false,
     "start_time": "2023-12-28T18:47:22.978039",
     "status": "completed"
    },
    "tags": []
   },
   "outputs": [],
   "source": [
    "from sklearn.metrics.pairwise import cosine_similarity\n",
    "similarity = cosine_similarity(vector)\n"
   ]
  },
  {
   "cell_type": "code",
   "execution_count": 22,
   "id": "b6098172",
   "metadata": {
    "execution": {
     "iopub.execute_input": "2023-12-28T18:47:24.489644Z",
     "iopub.status.busy": "2023-12-28T18:47:24.489348Z",
     "iopub.status.idle": "2023-12-28T18:47:24.494644Z",
     "shell.execute_reply": "2023-12-28T18:47:24.493822Z"
    },
    "papermill": {
     "duration": 0.016982,
     "end_time": "2023-12-28T18:47:24.496515",
     "exception": false,
     "start_time": "2023-12-28T18:47:24.479533",
     "status": "completed"
    },
    "tags": []
   },
   "outputs": [],
   "source": [
    "def recommendation(movie, top_n=10):\n",
    "    # Find the index of the given movie\n",
    "    movie_index = new[new['title'] == movie].index[0]\n",
    "\n",
    "    # Get the cosine similarity scores for the given movie\n",
    "    distances = similarity[movie_index]\n",
    "\n",
    "    # Get the indices of the top N similar movies\n",
    "    similar_movie_indices = distances.argsort()[-top_n-1:-1][::-1]\n",
    "\n",
    "    # Get the titles of the top N similar movies\n",
    "    similar_movies = new.iloc[similar_movie_indices]['title'].tolist()\n",
    "\n",
    "    return similar_movies\n"
   ]
  },
  {
   "cell_type": "code",
   "execution_count": 23,
   "id": "632353b5",
   "metadata": {
    "execution": {
     "iopub.execute_input": "2023-12-28T18:47:24.515313Z",
     "iopub.status.busy": "2023-12-28T18:47:24.515052Z",
     "iopub.status.idle": "2023-12-28T18:47:24.522041Z",
     "shell.execute_reply": "2023-12-28T18:47:24.521137Z"
    },
    "papermill": {
     "duration": 0.018465,
     "end_time": "2023-12-28T18:47:24.523922",
     "exception": false,
     "start_time": "2023-12-28T18:47:24.505457",
     "status": "completed"
    },
    "tags": []
   },
   "outputs": [
    {
     "name": "stdout",
     "output_type": "stream",
     "text": [
      "Top 10 movies similar to 'Batman Begins':\n",
      "['The Dark Knight', 'The Dark Knight Rises', 'Batman', 'Batman & Robin', 'Batman', \"Amidst the Devil's Wings\", 'Batman v Superman: Dawn of Justice', 'Defendor', 'Mi America', 'Batman Returns']\n"
     ]
    }
   ],
   "source": [
    "# Example usage:\n",
    "movie_name = 'Batman Begins'\n",
    "similar_movies = recommendation(movie_name)\n",
    "\n",
    "print(f\"Top 10 movies similar to '{movie_name}':\")\n",
    "print(similar_movies)"
   ]
  },
  {
   "cell_type": "code",
   "execution_count": 24,
   "id": "5e68cec5",
   "metadata": {
    "execution": {
     "iopub.execute_input": "2023-12-28T18:47:24.542824Z",
     "iopub.status.busy": "2023-12-28T18:47:24.542552Z",
     "iopub.status.idle": "2023-12-28T18:47:24.546166Z",
     "shell.execute_reply": "2023-12-28T18:47:24.545333Z"
    },
    "papermill": {
     "duration": 0.015082,
     "end_time": "2023-12-28T18:47:24.548032",
     "exception": false,
     "start_time": "2023-12-28T18:47:24.532950",
     "status": "completed"
    },
    "tags": []
   },
   "outputs": [],
   "source": [
    "import pickle"
   ]
  },
  {
   "cell_type": "code",
   "execution_count": 25,
   "id": "40d59091",
   "metadata": {
    "execution": {
     "iopub.execute_input": "2023-12-28T18:47:24.567263Z",
     "iopub.status.busy": "2023-12-28T18:47:24.567017Z",
     "iopub.status.idle": "2023-12-28T18:47:24.861122Z",
     "shell.execute_reply": "2023-12-28T18:47:24.860145Z"
    },
    "papermill": {
     "duration": 0.306353,
     "end_time": "2023-12-28T18:47:24.863599",
     "exception": false,
     "start_time": "2023-12-28T18:47:24.557246",
     "status": "completed"
    },
    "tags": []
   },
   "outputs": [],
   "source": [
    "pickle.dump(new,open('movie_list.pkl','wb'))\n",
    "pickle.dump(similarity,open('similarity.pkl','wb'))"
   ]
  },
  {
   "cell_type": "code",
   "execution_count": null,
   "id": "e18d689b",
   "metadata": {
    "papermill": {
     "duration": 0.008739,
     "end_time": "2023-12-28T18:47:24.881965",
     "exception": false,
     "start_time": "2023-12-28T18:47:24.873226",
     "status": "completed"
    },
    "tags": []
   },
   "outputs": [],
   "source": []
  }
 ],
 "metadata": {
  "kaggle": {
   "accelerator": "nvidiaTeslaT4",
   "dataSources": [
    {
     "datasetId": 138,
     "sourceId": 4508,
     "sourceType": "datasetVersion"
    }
   ],
   "dockerImageVersionId": 30559,
   "isGpuEnabled": true,
   "isInternetEnabled": true,
   "language": "python",
   "sourceType": "notebook"
  },
  "kernelspec": {
   "display_name": "Python 3",
   "language": "python",
   "name": "python3"
  },
  "language_info": {
   "codemirror_mode": {
    "name": "ipython",
    "version": 3
   },
   "file_extension": ".py",
   "mimetype": "text/x-python",
   "name": "python",
   "nbconvert_exporter": "python",
   "pygments_lexer": "ipython3",
   "version": "3.10.12"
  },
  "papermill": {
   "default_parameters": {},
   "duration": 18.085989,
   "end_time": "2023-12-28T18:47:25.310883",
   "environment_variables": {},
   "exception": null,
   "input_path": "__notebook__.ipynb",
   "output_path": "__notebook__.ipynb",
   "parameters": {},
   "start_time": "2023-12-28T18:47:07.224894",
   "version": "2.4.0"
  }
 },
 "nbformat": 4,
 "nbformat_minor": 5
}
